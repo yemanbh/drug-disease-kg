{
 "cells": [
  {
   "cell_type": "markdown",
   "id": "c1d81480-f1e8-42f9-a5b2-36ab26da55e5",
   "metadata": {},
   "source": [
    "## Drug-disease link classification using knowledge graph"
   ]
  },
  {
   "cell_type": "markdown",
   "id": "33b09cdb-1cc5-4604-a679-4568dd0c7687",
   "metadata": {},
   "source": [
    "This notebook contains scripts to train and evaluate a classifier that predicts whether a drug treats a disease.\n",
    "\n",
    "The problem is formulated as a graph edge class prediction. The provided node embeddings are used as starting node features, and applied graph convolutional network to incorporate the graph structure during classification.\n",
    "\n",
    "Below, I describe feature engineering, model training, and evaluation workflows."
   ]
  },
  {
   "cell_type": "markdown",
   "id": "e67d167e-dd95-4141-8159-7200ee479406",
   "metadata": {},
   "source": [
    "## Load required libraries"
   ]
  },
  {
   "cell_type": "code",
   "execution_count": 1,
   "id": "40dd6c56-b4bf-4e7b-990a-144913291497",
   "metadata": {},
   "outputs": [],
   "source": [
    "# Import autoreload extension\n",
    "%load_ext autoreload\n",
    "# Enable autoreload for all modules\n",
    "%autoreload 2\n",
    "\n",
    "import os, re\n",
    "import pandas as pd \n",
    "import torch\n",
    "import matplotlib.pyplot as plt\n",
    "import torch\n",
    "import torch.nn as nn\n",
    "\n",
    "from tqdm import tqdm\n",
    "from sklearn.metrics import ConfusionMatrixDisplay\n",
    "\n",
    "from data_handling import (get_embd_as_list_float, plot_nodes_degree_distribution, get_graph_data, \n",
    "stratified_train_test_split, get_train_val_test_graph, create_graph_data)\n",
    "\n",
    "from train import EdgeClassifier, train_model\n",
    "\n",
    "from eval import run_inference, compute_metrics\n"
   ]
  },
  {
   "cell_type": "markdown",
   "id": "91ed0a1b-c249-4abb-85da-13a682c4c7f1",
   "metadata": {},
   "source": [
    "## Define variables"
   ]
  },
  {
   "cell_type": "code",
   "execution_count": 2,
   "id": "d769e46e-9bfd-4b75-a53e-5959374c8f87",
   "metadata": {},
   "outputs": [],
   "source": [
    "data_dir = \"data/\" # this is where graph data is strored: \"Embeddings.csv\" and \"Ground Truth.csv\"\n",
    "output_dir = \"output/\"\n",
    "os.makedirs(output_dir, exist_ok=True)\n",
    "# Number of output classes for the \n",
    "\n",
    "# Flag to indicate if the graph is directed (True) or undirected (False)\n",
    "# YOU CAN CHANGE THIS VARIABLE TO SEE CHANGE IN PERORMANCE\n",
    "directed_graph = False\n",
    "\n",
    "# Dimensionality of the feature vectors for the graph nodes\n",
    "featured_dim = 128\n",
    "num_classes = 2\n",
    "\n",
    "# Number of training epochs\n",
    "epochs = 1000\n",
    "\n",
    "# Number of epochs with no improvement to trigger early stopping\n",
    "early_stop = 40\n",
    "\n",
    "# Dropout rate for regularization during training\n",
    "drop_rate = 0.3\n",
    "\n",
    "# Device to use for computations: GPU if available, otherwise CPU\n",
    "device = torch.device(\"cuda\" if torch.cuda.is_available() else \"cpu\")\n",
    "\n",
    "# Directory to save outputs, including the directed graph information in its name\n",
    "save_dir = os.path.join(output_dir, f\"directed_G_{directed_graph}\")\n",
    "\n",
    "# Create the output directory if it does not already exist\n",
    "os.makedirs(save_dir, exist_ok=True)"
   ]
  },
  {
   "cell_type": "markdown",
   "id": "d814fff5-c963-4623-a843-0e89034c2e60",
   "metadata": {},
   "source": [
    "## Load embedding and ground truth data"
   ]
  },
  {
   "cell_type": "code",
   "execution_count": 3,
   "id": "8f83cfe6-2a26-4de5-b2cd-392b9ef8842c",
   "metadata": {},
   "outputs": [
    {
     "name": "stdout",
     "output_type": "stream",
     "text": [
      "The embedding file contain 170009 entries\n"
     ]
    }
   ],
   "source": [
    "embd_csv = pd.read_csv(os.path.join(data_dir, \"Embeddings.csv\"), usecols=['id', 'topological_embedding'])\n",
    "print(f\"The embedding file contain {len(embd_csv)} entries\")"
   ]
  },
  {
   "cell_type": "code",
   "execution_count": 4,
   "id": "3f0e35b1-eacc-4380-b23a-9e45eed113a4",
   "metadata": {},
   "outputs": [
    {
     "data": {
      "text/html": [
       "<div>\n",
       "<style scoped>\n",
       "    .dataframe tbody tr th:only-of-type {\n",
       "        vertical-align: middle;\n",
       "    }\n",
       "\n",
       "    .dataframe tbody tr th {\n",
       "        vertical-align: top;\n",
       "    }\n",
       "\n",
       "    .dataframe thead th {\n",
       "        text-align: right;\n",
       "    }\n",
       "</style>\n",
       "<table border=\"1\" class=\"dataframe\">\n",
       "  <thead>\n",
       "    <tr style=\"text-align: right;\">\n",
       "      <th></th>\n",
       "      <th>id</th>\n",
       "      <th>topological_embedding</th>\n",
       "    </tr>\n",
       "  </thead>\n",
       "  <tbody>\n",
       "    <tr>\n",
       "      <th>0</th>\n",
       "      <td>UniProtKB:P53805</td>\n",
       "      <td>[-0.09720507 -0.02366368 -0.01756126 -0.096430...</td>\n",
       "    </tr>\n",
       "    <tr>\n",
       "      <th>1</th>\n",
       "      <td>UniProtKB:Q4KWH8</td>\n",
       "      <td>[ 0.05282909  0.16689758  0.17749593  0.028352...</td>\n",
       "    </tr>\n",
       "    <tr>\n",
       "      <th>2</th>\n",
       "      <td>UniProtKB:Q9UPU7</td>\n",
       "      <td>[-1.98048055e-02  3.08241490e-02 -1.16399840e-...</td>\n",
       "    </tr>\n",
       "    <tr>\n",
       "      <th>3</th>\n",
       "      <td>UniProtKB:P35462</td>\n",
       "      <td>[-0.16700847  0.00287975 -0.02125628 -0.196755...</td>\n",
       "    </tr>\n",
       "    <tr>\n",
       "      <th>4</th>\n",
       "      <td>UniProtKB:Q9UJY1</td>\n",
       "      <td>[-2.49186769e-01 -2.17781356e-03 -1.74910173e-...</td>\n",
       "    </tr>\n",
       "  </tbody>\n",
       "</table>\n",
       "</div>"
      ],
      "text/plain": [
       "                 id                              topological_embedding\n",
       "0  UniProtKB:P53805  [-0.09720507 -0.02366368 -0.01756126 -0.096430...\n",
       "1  UniProtKB:Q4KWH8  [ 0.05282909  0.16689758  0.17749593  0.028352...\n",
       "2  UniProtKB:Q9UPU7  [-1.98048055e-02  3.08241490e-02 -1.16399840e-...\n",
       "3  UniProtKB:P35462  [-0.16700847  0.00287975 -0.02125628 -0.196755...\n",
       "4  UniProtKB:Q9UJY1  [-2.49186769e-01 -2.17781356e-03 -1.74910173e-..."
      ]
     },
     "execution_count": 4,
     "metadata": {},
     "output_type": "execute_result"
    }
   ],
   "source": [
    "# View first 5 elements\n",
    "embd_csv.head(5)"
   ]
  },
  {
   "cell_type": "code",
   "execution_count": 5,
   "id": "af3370c9-3654-40f6-a3c5-c272bbf2df13",
   "metadata": {},
   "outputs": [
    {
     "name": "stdout",
     "output_type": "stream",
     "text": [
      "The ground truth file contain 28368 connections\n"
     ]
    }
   ],
   "source": [
    "## Read ground truth data \n",
    "gt = pd.read_csv(os.path.join(data_dir, \"Ground Truth.csv\"))\n",
    "print(f\"The ground truth file contain {len(gt)} connections\")"
   ]
  },
  {
   "cell_type": "code",
   "execution_count": 6,
   "id": "052f397a-5933-4f11-aa9d-1bd211aeea62",
   "metadata": {},
   "outputs": [
    {
     "data": {
      "text/html": [
       "<div>\n",
       "<style scoped>\n",
       "    .dataframe tbody tr th:only-of-type {\n",
       "        vertical-align: middle;\n",
       "    }\n",
       "\n",
       "    .dataframe tbody tr th {\n",
       "        vertical-align: top;\n",
       "    }\n",
       "\n",
       "    .dataframe thead th {\n",
       "        text-align: right;\n",
       "    }\n",
       "</style>\n",
       "<table border=\"1\" class=\"dataframe\">\n",
       "  <thead>\n",
       "    <tr style=\"text-align: right;\">\n",
       "      <th></th>\n",
       "      <th>Unnamed: 0</th>\n",
       "      <th>source</th>\n",
       "      <th>target</th>\n",
       "      <th>y</th>\n",
       "    </tr>\n",
       "  </thead>\n",
       "  <tbody>\n",
       "    <tr>\n",
       "      <th>0</th>\n",
       "      <td>0</td>\n",
       "      <td>CHEMBL.COMPOUND:CHEMBL30</td>\n",
       "      <td>MONDO:0007186</td>\n",
       "      <td>1</td>\n",
       "    </tr>\n",
       "    <tr>\n",
       "      <th>1</th>\n",
       "      <td>1</td>\n",
       "      <td>CHEMBL.COMPOUND:CHEMBL3707202</td>\n",
       "      <td>MONDO:0007186</td>\n",
       "      <td>1</td>\n",
       "    </tr>\n",
       "    <tr>\n",
       "      <th>2</th>\n",
       "      <td>2</td>\n",
       "      <td>CHEMBL.COMPOUND:CHEMBL1502</td>\n",
       "      <td>MONDO:0007186</td>\n",
       "      <td>1</td>\n",
       "    </tr>\n",
       "    <tr>\n",
       "      <th>3</th>\n",
       "      <td>3</td>\n",
       "      <td>CHEMBL.COMPOUND:CHEMBL480</td>\n",
       "      <td>MONDO:0007186</td>\n",
       "      <td>1</td>\n",
       "    </tr>\n",
       "    <tr>\n",
       "      <th>4</th>\n",
       "      <td>4</td>\n",
       "      <td>CHEMBL.COMPOUND:CHEMBL3833310</td>\n",
       "      <td>MONDO:0007186</td>\n",
       "      <td>1</td>\n",
       "    </tr>\n",
       "  </tbody>\n",
       "</table>\n",
       "</div>"
      ],
      "text/plain": [
       "   Unnamed: 0                         source         target  y\n",
       "0           0       CHEMBL.COMPOUND:CHEMBL30  MONDO:0007186  1\n",
       "1           1  CHEMBL.COMPOUND:CHEMBL3707202  MONDO:0007186  1\n",
       "2           2     CHEMBL.COMPOUND:CHEMBL1502  MONDO:0007186  1\n",
       "3           3      CHEMBL.COMPOUND:CHEMBL480  MONDO:0007186  1\n",
       "4           4  CHEMBL.COMPOUND:CHEMBL3833310  MONDO:0007186  1"
      ]
     },
     "execution_count": 6,
     "metadata": {},
     "output_type": "execute_result"
    }
   ],
   "source": [
    "# View first 5 rows\n",
    "gt.head(5)"
   ]
  },
  {
   "cell_type": "markdown",
   "id": "54dd6116-939a-416c-825e-be8370c7273b",
   "metadata": {},
   "source": [
    "## Visualise class distribution"
   ]
  },
  {
   "cell_type": "code",
   "execution_count": 7,
   "id": "0f0e26ec-ac1f-4c5b-8b9c-0c6ea9a254aa",
   "metadata": {},
   "outputs": [
    {
     "data": {
      "text/plain": [
       "Text(0.5, 1.0, 'Class distribution')"
      ]
     },
     "execution_count": 7,
     "metadata": {},
     "output_type": "execute_result"
    },
    {
     "data": {
      "image/png": "[encoded data removed]",
      "text/plain": [
       "<Figure size 640x480 with 1 Axes>"
      ]
     },
     "metadata": {},
     "output_type": "display_data"
    }
   ],
   "source": [
    "ax = gt.y.value_counts().plot(kind='bar')\n",
    "ax.set_ylabel(\"Count\")\n",
    "ax.set_xlabel(\"Ground truth label\")\n",
    "ax.set_title(\"Class distribution\")"
   ]
  },
  {
   "cell_type": "markdown",
   "id": "d3079093-17c8-4a1a-9025-b6cc09339453",
   "metadata": {},
   "source": [
    "## Check if all nodes in the ground truth are in embedding file"
   ]
  },
  {
   "cell_type": "code",
   "execution_count": 8,
   "id": "bc614b97-0d25-4d2c-9bf1-b813799db6d4",
   "metadata": {},
   "outputs": [
    {
     "name": "stdout",
     "output_type": "stream",
     "text": [
      "Pass: All SOURCE nodes in ground truth are in embedding file\n"
     ]
    }
   ],
   "source": [
    "if len(set(embd_csv.id).intersection(gt.source)) == len(set(gt.source)):\n",
    "    print(f\"Pass: All SOURCE nodes in ground truth are in embedding file\")\n",
    "else:\n",
    "    raise Exception(\"Fail: Some SOURCE nodes in ground truth file are not in embedding file\")"
   ]
  },
  {
   "cell_type": "code",
   "execution_count": 9,
   "id": "4fe3a0f2-ee60-4f28-b54f-e7532305a726",
   "metadata": {},
   "outputs": [
    {
     "name": "stdout",
     "output_type": "stream",
     "text": [
      "Pass: All TARGET nodes in ground truth are in embedding file\n"
     ]
    }
   ],
   "source": [
    "if len(set(embd_csv.id).intersection(gt.target)) == len(set(gt.target)):\n",
    "    print(f\"Pass: All TARGET nodes in ground truth are in embedding file\")\n",
    "else: \n",
    "    raise Exception(\"Fail: Some TARGET nodes in ground truth file are not in embedding file\")"
   ]
  },
  {
   "cell_type": "markdown",
   "id": "4e84dfe4-286e-4b43-82f5-02a3d3f638b6",
   "metadata": {},
   "source": [
    "## Extract embedding of nodes with ground truth "
   ]
  },
  {
   "cell_type": "code",
   "execution_count": 10,
   "id": "05333106-2533-4d8c-ba55-39bd1786a719",
   "metadata": {},
   "outputs": [
    {
     "name": "stdout",
     "output_type": "stream",
     "text": [
      "After filtering there are 3785 entries\n"
     ]
    }
   ],
   "source": [
    "# Combine unique node IDs from the 'target' and 'source' columns of the `gt` dataframe into a single list\n",
    "nodes = list(gt.target.unique()) + list(gt.source.unique())\n",
    "\n",
    "# Filter the `embd_csv` dataframe to keep only rows where the 'id' column matches one of the nodes in the `nodes` list\n",
    "embd_csv = embd_csv.loc[embd_csv['id'].isin(nodes), :].reset_index(drop=True)\n",
    "\n",
    "print(f\"After filtering there are {len(embd_csv)} entries\")\n",
    "\n",
    "# Convert the 'topological_embedding' column from its current format (string)\n",
    "# into a list of floats using the `get_embd_as_list_float` function\n",
    "embd_csv[\"topological_embedding\"] = embd_csv[\"topological_embedding\"].map(get_embd_as_list_float)\n"
   ]
  },
  {
   "cell_type": "markdown",
   "id": "1cc66ac9-b23f-4c60-9dd8-0683ed32c8e4",
   "metadata": {},
   "source": [
    "## Visualise nodes degree"
   ]
  },
  {
   "cell_type": "code",
   "execution_count": 11,
   "id": "507c370f-a5db-48e0-aff2-d2462fc2cfcc",
   "metadata": {},
   "outputs": [
    {
     "data": {
      "image/png": "[encoded data removed]",
      "text/plain": [
       "<Figure size 640x480 with 1 Axes>"
      ]
     },
     "metadata": {},
     "output_type": "display_data"
    },
    {
     "data": {
      "image/png": "[encoded data removed]",
      "text/plain": [
       "<Figure size 640x480 with 1 Axes>"
      ]
     },
     "metadata": {},
     "output_type": "display_data"
    }
   ],
   "source": [
    "plot_nodes_degree_distribution(gt)"
   ]
  },
  {
   "cell_type": "markdown",
   "id": "db07b4c2-6011-46ab-9f59-fce3792b0b19",
   "metadata": {},
   "source": []
  },
  {
   "cell_type": "markdown",
   "id": "a13861de-6b2b-443f-b4cd-ac5e65c8f4e4",
   "metadata": {},
   "source": [
    "## Create geometric dataset from knowledge graph"
   ]
  },
  {
   "cell_type": "code",
   "execution_count": 12,
   "id": "8c7fac36-0eb2-4c64-bf7f-c133fea023f7",
   "metadata": {},
   "outputs": [
    {
     "name": "stdout",
     "output_type": "stream",
     "text": [
      "Training set size: 17369\n",
      "Test set size: 5752\n",
      "Validation set size: 5247\n",
      "Create TRAINING graph data...\n",
      "Node features/embedding dimension:torch.Size([3011, 128])\n",
      "Edge index dimension:torch.Size([2, 34738])\n",
      "Edge labels dimension:torch.Size([34738])\n",
      "Create VALIDATION graph data..\n",
      "Node features/embedding dimension:torch.Size([1668, 128])\n",
      "Edge index dimension:torch.Size([2, 10494])\n",
      "Edge labels dimension:torch.Size([10494])\n",
      "Create TEST graph data...\n",
      "Node features/embedding dimension:torch.Size([1805, 128])\n",
      "Edge index dimension:torch.Size([2, 11504])\n",
      "Edge labels dimension:torch.Size([11504])\n"
     ]
    }
   ],
   "source": [
    "# Split the graph `gt` into training, validation, and test subgraphs\n",
    "train, val, test = get_train_val_test_graph(gt)\n",
    "\n",
    "# Prepare the graph data for each split (train, validation, and test)\n",
    "train_graph_data, val_graph_data, test_graph_data = get_graph_data(\n",
    "    embd_csv,    # The dataframe containing embeddings for nodes\n",
    "    train,       # Training subgraph\n",
    "    val,         # Validation subgraph\n",
    "    test,        # Test subgraph\n",
    "    directed_graph=directed_graph  # Whether the graph is directed or not \n",
    ")\n"
   ]
  },
  {
   "cell_type": "code",
   "execution_count": 13,
   "id": "5d0219a9-4c51-4e1f-8c4e-bd5be93f2543",
   "metadata": {},
   "outputs": [],
   "source": [
    "# plot_nodes_degree_distribution(train, comment='Training')\n",
    "# plot_nodes_degree_distribution(val, comment='Validation')\n",
    "# plot_nodes_degree_distribution(test, comment='Test')"
   ]
  },
  {
   "cell_type": "markdown",
   "id": "203e288b-e795-4289-8c62-9cebb8fbfb9f",
   "metadata": {},
   "source": [
    "## Create GCN model for classification "
   ]
  },
  {
   "cell_type": "code",
   "execution_count": 14,
   "id": "b4d90610-189d-4f7a-9cc8-dc7cbaa864b7",
   "metadata": {},
   "outputs": [
    {
     "data": {
      "text/plain": [
       "EdgeClassifier(\n",
       "  (conv1): GCNConv(128, 64)\n",
       "  (act1): ReLU()\n",
       "  (conv2): GCNConv(64, 64)\n",
       "  (act2): ReLU()\n",
       "  (edge_mlp): Sequential(\n",
       "    (0): Linear(in_features=128, out_features=64, bias=True)\n",
       "    (1): Dropout(p=0.3, inplace=False)\n",
       "    (2): Linear(in_features=64, out_features=32, bias=True)\n",
       "    (3): Linear(in_features=32, out_features=2, bias=True)\n",
       "  )\n",
       ")"
      ]
     },
     "execution_count": 14,
     "metadata": {},
     "output_type": "execute_result"
    }
   ],
   "source": [
    "model = EdgeClassifier(in_channels=featured_dim, \n",
    "                       hidden_channels=featured_dim//2, \n",
    "                       num_classes=num_classes, \n",
    "                       drop_rate=drop_rate, \n",
    "                       directed_graph=directed_graph).to(device)\n",
    "model"
   ]
  },
  {
   "cell_type": "code",
   "execution_count": 15,
   "id": "630d941f-7624-47d1-b661-31fc83db8f9b",
   "metadata": {},
   "outputs": [],
   "source": [
    "optimizer = torch.optim.Adam(model.parameters(), lr=0.0001)\n",
    "criteria = nn.CrossEntropyLoss()"
   ]
  },
  {
   "cell_type": "markdown",
   "id": "baeadfae-cf20-4e3b-a27a-7a4c51b8fc7d",
   "metadata": {
    "scrolled": true
   },
   "source": [
    "## Train classifier "
   ]
  },
  {
   "cell_type": "code",
   "execution_count": 16,
   "id": "b035b678-683e-42ed-803e-188ad23df120",
   "metadata": {},
   "outputs": [
    {
     "name": "stderr",
     "output_type": "stream",
     "text": [
      "Training/validation:   1%|▋                                                          | 11/1000 [00:00<00:26, 37.18it/s]"
     ]
    },
    {
     "name": "stdout",
     "output_type": "stream",
     "text": [
      "Epoch 0/1000: train loss: 0.6899, val loss: 0.6834\n"
     ]
    },
    {
     "name": "stderr",
     "output_type": "stream",
     "text": [
      "Training/validation:   3%|█▉                                                         | 32/1000 [00:00<00:13, 71.57it/s]"
     ]
    },
    {
     "name": "stdout",
     "output_type": "stream",
     "text": [
      "Epoch 20/1000: train loss: 0.6778, val loss: 0.6576\n",
      "Epoch 40/1000: train loss: 0.6650, val loss: 0.6276\n"
     ]
    },
    {
     "name": "stderr",
     "output_type": "stream",
     "text": [
      "Training/validation:   8%|████▍                                                     | 77/1000 [00:00<00:09, 102.14it/s]"
     ]
    },
    {
     "name": "stdout",
     "output_type": "stream",
     "text": [
      "Epoch 60/1000: train loss: 0.6545, val loss: 0.6015\n",
      "Epoch 80/1000: train loss: 0.6444, val loss: 0.5856\n"
     ]
    },
    {
     "name": "stderr",
     "output_type": "stream",
     "text": [
      "Training/validation:  12%|███████                                                  | 124/1000 [00:01<00:07, 109.83it/s]"
     ]
    },
    {
     "name": "stdout",
     "output_type": "stream",
     "text": [
      "Epoch 100/1000: train loss: 0.6322, val loss: 0.5707\n",
      "Epoch 120/1000: train loss: 0.6160, val loss: 0.5567\n"
     ]
    },
    {
     "name": "stderr",
     "output_type": "stream",
     "text": [
      "Training/validation:  16%|█████████                                                | 160/1000 [00:01<00:07, 110.37it/s]"
     ]
    },
    {
     "name": "stdout",
     "output_type": "stream",
     "text": [
      "Epoch 140/1000: train loss: 0.5986, val loss: 0.5460\n",
      "Epoch 160/1000: train loss: 0.5782, val loss: 0.5341\n"
     ]
    },
    {
     "name": "stderr",
     "output_type": "stream",
     "text": [
      "Training/validation:  20%|███████████▏                                             | 196/1000 [00:02<00:07, 109.21it/s]"
     ]
    },
    {
     "name": "stdout",
     "output_type": "stream",
     "text": [
      "Epoch 180/1000: train loss: 0.5513, val loss: 0.5209\n",
      "Epoch 200/1000: train loss: 0.5173, val loss: 0.5104\n"
     ]
    },
    {
     "name": "stderr",
     "output_type": "stream",
     "text": [
      "Training/validation:  23%|█████████████▎                                           | 233/1000 [00:02<00:06, 115.58it/s]"
     ]
    },
    {
     "name": "stdout",
     "output_type": "stream",
     "text": [
      "Epoch 220/1000: train loss: 0.4824, val loss: 0.5181\n",
      "Epoch 240/1000: train loss: 0.4531, val loss: 0.5583\n"
     ]
    },
    {
     "name": "stderr",
     "output_type": "stream",
     "text": [
      "Training/validation:  25%|██████████████▎                                           | 247/1000 [00:02<00:07, 98.90it/s]\n"
     ]
    }
   ],
   "source": [
    "train_loss_hist, val_loss_hist = train_model(model, train_graph_data, val_graph_data, optimizer, criteria, save_dir, epochs, device, directed_graph,early_stop=early_stop)"
   ]
  },
  {
   "cell_type": "code",
   "execution_count": 17,
   "id": "4bf18781-84d4-45c3-83ac-f2782c4c94d0",
   "metadata": {},
   "outputs": [
    {
     "data": {
      "text/plain": [
       "<matplotlib.legend.Legend at 0x16c8941bac0>"
      ]
     },
     "execution_count": 17,
     "metadata": {},
     "output_type": "execute_result"
    },
    {
     "data": {
      "image/png": "[encoded data removed]",
      "text/plain": [
       "<Figure size 640x480 with 1 Axes>"
      ]
     },
     "metadata": {},
     "output_type": "display_data"
    }
   ],
   "source": [
    "plt.plot(train_loss_hist, label='training loss')\n",
    "plt.plot(val_loss_hist, label='validation loss')\n",
    "plt.xlabel('Epoch')\n",
    "plt.ylabel(\"Training loss\")\n",
    "\n",
    "# save training curve to folder\n",
    "plt.savefig(os.path.join(save_dir, \"training-hist.png\"))\n",
    "plt.legend()"
   ]
  },
  {
   "cell_type": "markdown",
   "id": "e2a0f5e5-6d02-4570-8e20-2274a0823460",
   "metadata": {},
   "source": [
    "## Run inference"
   ]
  },
  {
   "cell_type": "code",
   "execution_count": 18,
   "id": "27ce4279-d056-442f-a794-c66dbd3cade2",
   "metadata": {},
   "outputs": [],
   "source": [
    " targets, preds = run_inference(model, test_graph_data, device=device, directed_graph=directed_graph)"
   ]
  },
  {
   "cell_type": "code",
   "execution_count": 19,
   "id": "9fd1757d-740e-473c-b3d2-5e0e1abb1d66",
   "metadata": {},
   "outputs": [],
   "source": [
    "report, cm = compute_metrics(targets, preds)"
   ]
  },
  {
   "cell_type": "code",
   "execution_count": 20,
   "id": "20724f25-c78f-4af3-a612-222677e329b1",
   "metadata": {},
   "outputs": [
    {
     "data": {
      "image/png": "[encoded data removed]",
      "text/plain": [
       "<Figure size 640x480 with 2 Axes>"
      ]
     },
     "metadata": {},
     "output_type": "display_data"
    }
   ],
   "source": [
    "disp = ConfusionMatrixDisplay(confusion_matrix=cm)\n",
    "disp.plot(cmap=plt.cm.Blues)\n",
    "plt.title(\"Confusion Matrix\")\n",
    "# save confusion matrix to folder\n",
    "plt.savefig(os.path.join(save_dir, \"conf-mat.png\"))\n",
    "plt.show()"
   ]
  },
  {
   "cell_type": "code",
   "execution_count": 21,
   "id": "e20b7fd9-1c05-442e-a1dd-4e858294923e",
   "metadata": {},
   "outputs": [
    {
     "name": "stdout",
     "output_type": "stream",
     "text": [
      "Classification report:\n",
      "               precision    recall  f1-score   support\n",
      "\n",
      "     No-link       0.78      0.66      0.72      3431\n",
      "  Link-exist       0.59      0.72      0.65      2321\n",
      "\n",
      "    accuracy                           0.69      5752\n",
      "   macro avg       0.69      0.69      0.68      5752\n",
      "weighted avg       0.70      0.69      0.69      5752\n",
      "\n"
     ]
    }
   ],
   "source": [
    "print(f\"Classification report:\\n\", report)"
   ]
  },
  {
   "cell_type": "code",
   "execution_count": null,
   "id": "7e75039c-1ffe-4ac1-9481-132a94d7752a",
   "metadata": {},
   "outputs": [],
   "source": []
  }
 ],
 "metadata": {
  "kernelspec": {
   "display_name": "da-py310-PyTorch2.5.1-gpu",
   "language": "python",
   "name": "da-py310"
  },
  "language_info": {
   "codemirror_mode": {
    "name": "ipython",
    "version": 3
   },
   "file_extension": ".py",
   "mimetype": "text/x-python",
   "name": "python",
   "nbconvert_exporter": "python",
   "pygments_lexer": "ipython3",
   "version": "3.10.15"
  }
 },
 "nbformat": 4,
 "nbformat_minor": 5
}
